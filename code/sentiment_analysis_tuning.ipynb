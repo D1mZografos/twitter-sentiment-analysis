{
 "cells": [
  {
   "cell_type": "markdown",
   "metadata": {},
   "source": [
    "### 1. Import Libraries"
   ]
  },
  {
   "cell_type": "code",
   "execution_count": 3,
   "metadata": {},
   "outputs": [],
   "source": [
    "import pandas as pd\n",
    "import numpy as np\n",
    "from sklearn.model_selection import GridSearchCV, cross_val_score, KFold\n",
    "from sklearn.pipeline import Pipeline\n",
    "from sklearn.feature_extraction.text import TfidfVectorizer\n",
    "from sklearn.linear_model import LogisticRegression\n",
    "from sklearn.svm import LinearSVC\n",
    "from sklearn.ensemble import RandomForestClassifier\n",
    "from sklearn.neural_network import MLPClassifier\n",
    "from sklearn.metrics import make_scorer, f1_score"
   ]
  },
  {
   "cell_type": "markdown",
   "metadata": {},
   "source": [
    "### 2. Load Preprocessed Dataset"
   ]
  },
  {
   "cell_type": "code",
   "execution_count": 6,
   "metadata": {},
   "outputs": [
    {
     "data": {
      "text/html": [
       "<div>\n",
       "<style scoped>\n",
       "    .dataframe tbody tr th:only-of-type {\n",
       "        vertical-align: middle;\n",
       "    }\n",
       "\n",
       "    .dataframe tbody tr th {\n",
       "        vertical-align: top;\n",
       "    }\n",
       "\n",
       "    .dataframe thead th {\n",
       "        text-align: right;\n",
       "    }\n",
       "</style>\n",
       "<table border=\"1\" class=\"dataframe\">\n",
       "  <thead>\n",
       "    <tr style=\"text-align: right;\">\n",
       "      <th></th>\n",
       "      <th>airline_sentiment</th>\n",
       "      <th>text</th>\n",
       "    </tr>\n",
       "  </thead>\n",
       "  <tbody>\n",
       "    <tr>\n",
       "      <th>0</th>\n",
       "      <td>1</td>\n",
       "      <td>said</td>\n",
       "    </tr>\n",
       "    <tr>\n",
       "      <th>1</th>\n",
       "      <td>2</td>\n",
       "      <td>plus youve added commercial experience tacky</td>\n",
       "    </tr>\n",
       "    <tr>\n",
       "      <th>2</th>\n",
       "      <td>1</td>\n",
       "      <td>didnt today must mean need take another trip</td>\n",
       "    </tr>\n",
       "    <tr>\n",
       "      <th>3</th>\n",
       "      <td>0</td>\n",
       "      <td>really aggressive blast obnoxious entertainmen...</td>\n",
       "    </tr>\n",
       "    <tr>\n",
       "      <th>4</th>\n",
       "      <td>0</td>\n",
       "      <td>really big bad thing</td>\n",
       "    </tr>\n",
       "  </tbody>\n",
       "</table>\n",
       "</div>"
      ],
      "text/plain": [
       "   airline_sentiment                                               text\n",
       "0                  1                                               said\n",
       "1                  2       plus youve added commercial experience tacky\n",
       "2                  1       didnt today must mean need take another trip\n",
       "3                  0  really aggressive blast obnoxious entertainmen...\n",
       "4                  0                               really big bad thing"
      ]
     },
     "execution_count": 6,
     "metadata": {},
     "output_type": "execute_result"
    }
   ],
   "source": [
    "# Load the cleaned and encoded dataset\n",
    "data = pd.read_csv(r\"/Users/dimzografos/Desktop/Assignments/MLPC/preprocessed_airline_sentiment.csv\")\n",
    "\n",
    "# Read the first 5 rows\n",
    "data.head()"
   ]
  },
  {
   "cell_type": "code",
   "execution_count": 8,
   "metadata": {},
   "outputs": [],
   "source": [
    "# Drop null values\n",
    "data.dropna(subset=['text', 'airline_sentiment'], inplace=True)"
   ]
  },
  {
   "cell_type": "code",
   "execution_count": 10,
   "metadata": {},
   "outputs": [],
   "source": [
    "# Ensure all text values are strings\n",
    "data['text'] = data['text'].astype(str)"
   ]
  },
  {
   "cell_type": "code",
   "execution_count": 12,
   "metadata": {},
   "outputs": [],
   "source": [
    "# Separate feature and target\n",
    "X = data['text']\n",
    "y = data['airline_sentiment']"
   ]
  },
  {
   "cell_type": "markdown",
   "metadata": {},
   "source": [
    "### 3. Define Classifiers and Hyperparameter Grids"
   ]
  },
  {
   "cell_type": "code",
   "execution_count": 15,
   "metadata": {},
   "outputs": [],
   "source": [
    "# Define classifiers\n",
    "classifiers = {\n",
    "    'Logistic Regression': LogisticRegression(max_iter=1000),\n",
    "    'SVM': LinearSVC(max_iter=1000, dual='auto'),\n",
    "    'Random Forest': RandomForestClassifier(),\n",
    "    'Neural Network': MLPClassifier(max_iter=300)\n",
    "}"
   ]
  },
  {
   "cell_type": "code",
   "execution_count": 17,
   "metadata": {},
   "outputs": [],
   "source": [
    "# Define parameter grids for each classifier\n",
    "param_grids = {\n",
    "    'Logistic Regression': {\n",
    "        'classifier__C': [0.1, 1, 10],\n",
    "        'classifier__solver': ['lbfgs']\n",
    "    },\n",
    "    'SVM': {\n",
    "        'classifier__C': [0.1, 1, 10]\n",
    "    },\n",
    "    'Random Forest': {\n",
    "        'classifier__n_estimators': [100, 300],\n",
    "        'classifier__max_depth': [None, 10, 30]\n",
    "    },\n",
    "    'Neural Network': {\n",
    "        'classifier__hidden_layer_sizes': [(100,), (50, 50)],\n",
    "        'classifier__activation': ['relu', 'tanh']\n",
    "    }\n",
    "}"
   ]
  },
  {
   "cell_type": "markdown",
   "metadata": {},
   "source": [
    "### 4. Define TF-IDF Vectorization Settings"
   ]
  },
  {
   "cell_type": "code",
   "execution_count": 20,
   "metadata": {},
   "outputs": [],
   "source": [
    "tfidf = {\n",
    "    'min_df=5': TfidfVectorizer(min_df=5),\n",
    "    'max_features=2500': TfidfVectorizer(max_features=2500),\n",
    "    'max_features=500': TfidfVectorizer(max_features=500)\n",
    "}"
   ]
  },
  {
   "cell_type": "markdown",
   "metadata": {},
   "source": [
    "### 5. Hyperparameter Tuning with GridSearchCV"
   ]
  },
  {
   "cell_type": "code",
   "execution_count": 23,
   "metadata": {},
   "outputs": [],
   "source": [
    "# Set up cross-validation and scoring\n",
    "kf = KFold(n_splits=5, shuffle=True, random_state=42)\n",
    "scorer = make_scorer(f1_score, average='weighted')"
   ]
  },
  {
   "cell_type": "code",
   "execution_count": 25,
   "metadata": {},
   "outputs": [
    {
     "name": "stdout",
     "output_type": "stream",
     "text": [
      "\n",
      "============================\n",
      " TF-IDF Setting: min_df=5\n",
      "============================\n",
      "Tuning Logistic Regression...\n",
      "Tuning SVM...\n",
      "Tuning Random Forest...\n",
      "Tuning Neural Network...\n",
      "\n",
      "============================\n",
      " TF-IDF Setting: max_features=2500\n",
      "============================\n",
      "Tuning Logistic Regression...\n",
      "Tuning SVM...\n",
      "Tuning Random Forest...\n",
      "Tuning Neural Network...\n",
      "\n",
      "============================\n",
      " TF-IDF Setting: max_features=500\n",
      "============================\n",
      "Tuning Logistic Regression...\n",
      "Tuning SVM...\n",
      "Tuning Random Forest...\n",
      "Tuning Neural Network...\n"
     ]
    },
    {
     "name": "stderr",
     "output_type": "stream",
     "text": [
      "/opt/anaconda3/lib/python3.12/site-packages/sklearn/neural_network/_multilayer_perceptron.py:691: ConvergenceWarning: Stochastic Optimizer: Maximum iterations (300) reached and the optimization hasn't converged yet.\n",
      "  warnings.warn(\n",
      "/opt/anaconda3/lib/python3.12/site-packages/sklearn/neural_network/_multilayer_perceptron.py:691: ConvergenceWarning: Stochastic Optimizer: Maximum iterations (300) reached and the optimization hasn't converged yet.\n",
      "  warnings.warn(\n",
      "/opt/anaconda3/lib/python3.12/site-packages/sklearn/neural_network/_multilayer_perceptron.py:691: ConvergenceWarning: Stochastic Optimizer: Maximum iterations (300) reached and the optimization hasn't converged yet.\n",
      "  warnings.warn(\n",
      "/opt/anaconda3/lib/python3.12/site-packages/sklearn/neural_network/_multilayer_perceptron.py:691: ConvergenceWarning: Stochastic Optimizer: Maximum iterations (300) reached and the optimization hasn't converged yet.\n",
      "  warnings.warn(\n",
      "/opt/anaconda3/lib/python3.12/site-packages/sklearn/neural_network/_multilayer_perceptron.py:691: ConvergenceWarning: Stochastic Optimizer: Maximum iterations (300) reached and the optimization hasn't converged yet.\n",
      "  warnings.warn(\n"
     ]
    }
   ],
   "source": [
    "# Initialize a list to store tuning results\n",
    "all_results = []\n",
    "\n",
    "# Loop through each TF-IDF configuration\n",
    "for tfidf_name, tfidf_vectorizer in tfidf.items():\n",
    "    print(f\"\\n============================\")\n",
    "    print(f\" TF-IDF Setting: {tfidf_name}\")\n",
    "    print(f\"============================\")\n",
    "\n",
    "    # Loop through each classifier and its parameter grid\n",
    "    for clf_name in classifiers:\n",
    "        print(f\"Tuning {clf_name}...\")\n",
    "\n",
    "        # Create pipeline: TF-IDF vectorizer + classifier\n",
    "        pipeline = Pipeline([\n",
    "            ('tfidf', tfidf_vectorizer),\n",
    "            ('classifier', classifiers[clf_name])\n",
    "        ])\n",
    "\n",
    "        # Run Grid Search with 5-fold cross-validation\n",
    "        grid = GridSearchCV(pipeline, param_grids[clf_name], cv=kf, scoring=scorer, n_jobs=-1)\n",
    "        grid.fit(X, y)\n",
    "\n",
    "        # Extract the best model from grid search\n",
    "        best_model = grid.best_estimator_\n",
    "\n",
    "        # Evaluate best model using cross-validation (accuracy + F1-score)\n",
    "        acc = cross_val_score(best_model, X, y, cv=kf, scoring='accuracy').mean()\n",
    "        f1 = cross_val_score(best_model, X, y, cv=kf, scoring='f1_weighted').mean()\n",
    "\n",
    "        # Store results in a list of dictionaries\n",
    "        all_results.append({\n",
    "            'TF-IDF Setting': tfidf_name,\n",
    "            'Model': clf_name,\n",
    "            'Accuracy': round(acc, 4),\n",
    "            'F1-score': round(f1, 4),\n",
    "            'Best Parameters': grid.best_params_\n",
    "        })\n"
   ]
  },
  {
   "cell_type": "markdown",
   "metadata": {},
   "source": [
    "### 6. Export Tuned Results "
   ]
  },
  {
   "cell_type": "code",
   "execution_count": 32,
   "metadata": {},
   "outputs": [
    {
     "name": "stdout",
     "output_type": "stream",
     "text": [
      "\n",
      "Tuning results saved to: /Users/dimzografos/Desktop/Assignments/MLPC/sentiment_analysis_with_tuning.csv\n"
     ]
    }
   ],
   "source": [
    "# Convert results to DataFrame\n",
    "results_df = pd.DataFrame(all_results)\n",
    "\n",
    "# Define output file path\n",
    "output_path = r\"/Users/dimzografos/Desktop/Assignments/MLPC/sentiment_analysis_with_tuning.csv\"\n",
    "\n",
    "# Save the tuning results\n",
    "results_df.to_csv(output_path, index=False)\n",
    "print(f\"\\nTuning results saved to: {output_path}\")"
   ]
  }
 ],
 "metadata": {
  "kernelspec": {
   "display_name": "Python 3 (ipykernel)",
   "language": "python",
   "name": "python3"
  },
  "language_info": {
   "codemirror_mode": {
    "name": "ipython",
    "version": 3
   },
   "file_extension": ".py",
   "mimetype": "text/x-python",
   "name": "python",
   "nbconvert_exporter": "python",
   "pygments_lexer": "ipython3",
   "version": "3.12.4"
  }
 },
 "nbformat": 4,
 "nbformat_minor": 4
}
